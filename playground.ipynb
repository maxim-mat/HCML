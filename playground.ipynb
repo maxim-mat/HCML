{
 "cells": [
  {
   "cell_type": "code",
   "execution_count": 1,
   "outputs": [],
   "source": [
    "import cv2\n",
    "import numpy as np\n",
    "import pandas as pd\n",
    "from dataset.dataset import ImageDataset\n",
    "from easydict import EasyDict as edict\n",
    "import json\n",
    "import pickle as pkl\n",
    "from tqdm.notebook import tqdm\n",
    "from Classification.model.classifier import Classifier\n",
    "\n",
    "with open(\"config/example_EXP.json\", \"r\") as f:\n",
    "   cfg = edict(json.load(f))"
   ],
   "metadata": {
    "collapsed": false,
    "ExecuteTime": {
     "end_time": "2024-04-10T20:08:46.201705600Z",
     "start_time": "2024-04-10T20:08:35.309206Z"
    }
   }
  },
  {
   "cell_type": "code",
   "execution_count": 27,
   "outputs": [],
   "source": [
    "train_data = pd.read_csv(\"D:/chexpert/chexpertchestxrays-u20210408/CheXpert-v1.0/train_subsample.csv\")\n",
    "generated_data = pd.read_csv(r\"D:/chexpert/chexpertchestxrays-u20210408/CheXpert-v1.0/generated.csv\")\n",
    "# df = pd.concat([generated_data, train_data])"
   ],
   "metadata": {
    "collapsed": false,
    "ExecuteTime": {
     "end_time": "2024-04-10T20:28:25.665027300Z",
     "start_time": "2024-04-10T20:28:25.591025800Z"
    }
   }
  },
  {
   "cell_type": "code",
   "execution_count": 28,
   "outputs": [
    {
     "data": {
      "text/plain": "((44683, 19), (5350, 19))"
     },
     "execution_count": 28,
     "metadata": {},
     "output_type": "execute_result"
    }
   ],
   "source": [
    "train_data.shape, generated_data.shape"
   ],
   "metadata": {
    "collapsed": false,
    "ExecuteTime": {
     "end_time": "2024-04-10T20:28:26.268026500Z",
     "start_time": "2024-04-10T20:28:26.239027800Z"
    }
   }
  },
  {
   "cell_type": "code",
   "execution_count": 29,
   "outputs": [],
   "source": [
    "df = pd.concat([generated_data, train_data])"
   ],
   "metadata": {
    "collapsed": false,
    "ExecuteTime": {
     "end_time": "2024-04-10T20:28:28.127026Z",
     "start_time": "2024-04-10T20:28:28.101024500Z"
    }
   }
  },
  {
   "cell_type": "code",
   "execution_count": 30,
   "outputs": [
    {
     "data": {
      "text/plain": "       Cardiomegaly  Edema  Consolidation  Atelectasis  Pleural Effusion\n0               1.0    0.0            0.0          0.0               1.0\n1               1.0    1.0            0.0          0.0               1.0\n2               1.0    0.0            0.0          0.0               1.0\n3               1.0    1.0            0.0          0.0               0.0\n4               1.0    0.0            0.0          0.0               1.0\n...             ...    ...            ...          ...               ...\n44678           0.0    1.0            0.0          0.0               1.0\n44679           0.0    0.0            0.0          0.0               0.0\n44680           0.0    0.0            1.0          0.0               1.0\n44681           0.0    1.0            1.0          0.0               1.0\n44682           1.0    0.0            0.0          0.0               0.0\n\n[50033 rows x 5 columns]",
      "text/html": "<div>\n<style scoped>\n    .dataframe tbody tr th:only-of-type {\n        vertical-align: middle;\n    }\n\n    .dataframe tbody tr th {\n        vertical-align: top;\n    }\n\n    .dataframe thead th {\n        text-align: right;\n    }\n</style>\n<table border=\"1\" class=\"dataframe\">\n  <thead>\n    <tr style=\"text-align: right;\">\n      <th></th>\n      <th>Cardiomegaly</th>\n      <th>Edema</th>\n      <th>Consolidation</th>\n      <th>Atelectasis</th>\n      <th>Pleural Effusion</th>\n    </tr>\n  </thead>\n  <tbody>\n    <tr>\n      <th>0</th>\n      <td>1.0</td>\n      <td>0.0</td>\n      <td>0.0</td>\n      <td>0.0</td>\n      <td>1.0</td>\n    </tr>\n    <tr>\n      <th>1</th>\n      <td>1.0</td>\n      <td>1.0</td>\n      <td>0.0</td>\n      <td>0.0</td>\n      <td>1.0</td>\n    </tr>\n    <tr>\n      <th>2</th>\n      <td>1.0</td>\n      <td>0.0</td>\n      <td>0.0</td>\n      <td>0.0</td>\n      <td>1.0</td>\n    </tr>\n    <tr>\n      <th>3</th>\n      <td>1.0</td>\n      <td>1.0</td>\n      <td>0.0</td>\n      <td>0.0</td>\n      <td>0.0</td>\n    </tr>\n    <tr>\n      <th>4</th>\n      <td>1.0</td>\n      <td>0.0</td>\n      <td>0.0</td>\n      <td>0.0</td>\n      <td>1.0</td>\n    </tr>\n    <tr>\n      <th>...</th>\n      <td>...</td>\n      <td>...</td>\n      <td>...</td>\n      <td>...</td>\n      <td>...</td>\n    </tr>\n    <tr>\n      <th>44678</th>\n      <td>0.0</td>\n      <td>1.0</td>\n      <td>0.0</td>\n      <td>0.0</td>\n      <td>1.0</td>\n    </tr>\n    <tr>\n      <th>44679</th>\n      <td>0.0</td>\n      <td>0.0</td>\n      <td>0.0</td>\n      <td>0.0</td>\n      <td>0.0</td>\n    </tr>\n    <tr>\n      <th>44680</th>\n      <td>0.0</td>\n      <td>0.0</td>\n      <td>1.0</td>\n      <td>0.0</td>\n      <td>1.0</td>\n    </tr>\n    <tr>\n      <th>44681</th>\n      <td>0.0</td>\n      <td>1.0</td>\n      <td>1.0</td>\n      <td>0.0</td>\n      <td>1.0</td>\n    </tr>\n    <tr>\n      <th>44682</th>\n      <td>1.0</td>\n      <td>0.0</td>\n      <td>0.0</td>\n      <td>0.0</td>\n      <td>0.0</td>\n    </tr>\n  </tbody>\n</table>\n<p>50033 rows × 5 columns</p>\n</div>"
     },
     "execution_count": 30,
     "metadata": {},
     "output_type": "execute_result"
    }
   ],
   "source": [
    "gfy2 = pd.DataFrame(df[['Cardiomegaly',\n",
    "        'Edema',\n",
    "        'Consolidation',\n",
    "        'Atelectasis',\n",
    "        'Pleural Effusion']].fillna(0))\n",
    "for x in ['Cardiomegaly',\n",
    "        'Edema',\n",
    "        'Consolidation',\n",
    "        'Atelectasis',\n",
    "        'Pleural Effusion']:\n",
    "    gfy2[x] = gfy2[x].apply(lambda t: max(t, 0))\n",
    "gfy2"
   ],
   "metadata": {
    "collapsed": false,
    "ExecuteTime": {
     "end_time": "2024-04-10T20:28:28.390524100Z",
     "start_time": "2024-04-10T20:28:28.294525300Z"
    }
   }
  },
  {
   "cell_type": "code",
   "execution_count": 32,
   "outputs": [
    {
     "data": {
      "text/plain": "1.096916035416625"
     },
     "execution_count": 32,
     "metadata": {},
     "output_type": "execute_result"
    }
   ],
   "source": [
    "gfy2.sum(axis=0) / len(gfy2)"
   ],
   "metadata": {
    "collapsed": false,
    "ExecuteTime": {
     "end_time": "2024-04-10T20:28:47.750025400Z",
     "start_time": "2024-04-10T20:28:47.719025200Z"
    }
   }
  },
  {
   "cell_type": "code",
   "execution_count": null,
   "outputs": [],
   "source": [],
   "metadata": {
    "collapsed": false
   }
  },
  {
   "cell_type": "code",
   "execution_count": 26,
   "outputs": [],
   "source": [
    "for_valid = df.sample(frac=0.2)"
   ],
   "metadata": {
    "collapsed": false,
    "ExecuteTime": {
     "end_time": "2024-04-06T17:40:41.296024Z",
     "start_time": "2024-04-06T17:40:41.256023800Z"
    }
   }
  },
  {
   "cell_type": "code",
   "execution_count": 62,
   "outputs": [
    {
     "data": {
      "text/plain": "        Cardiomegaly  Edema  Consolidation  Atelectasis  Pleural Effusion\n18402            0.0    0.0            0.0          0.0               0.0\n166511           0.0    0.0            0.0          0.0               1.0\n146086           0.0    0.0            0.0          0.0               1.0\n183009           0.0    0.0            0.0          0.0               1.0\n61890            0.0    0.0            1.0          0.0               1.0\n...              ...    ...            ...          ...               ...\n94384            0.0    1.0            0.0          0.0               1.0\n159565           0.0    0.0            0.0          0.0               0.0\n179235           0.0    0.0            1.0          0.0               1.0\n167361           0.0    1.0            1.0          0.0               1.0\n47240            1.0    0.0            0.0          0.0               0.0\n\n[44683 rows x 5 columns]",
      "text/html": "<div>\n<style scoped>\n    .dataframe tbody tr th:only-of-type {\n        vertical-align: middle;\n    }\n\n    .dataframe tbody tr th {\n        vertical-align: top;\n    }\n\n    .dataframe thead th {\n        text-align: right;\n    }\n</style>\n<table border=\"1\" class=\"dataframe\">\n  <thead>\n    <tr style=\"text-align: right;\">\n      <th></th>\n      <th>Cardiomegaly</th>\n      <th>Edema</th>\n      <th>Consolidation</th>\n      <th>Atelectasis</th>\n      <th>Pleural Effusion</th>\n    </tr>\n  </thead>\n  <tbody>\n    <tr>\n      <th>18402</th>\n      <td>0.0</td>\n      <td>0.0</td>\n      <td>0.0</td>\n      <td>0.0</td>\n      <td>0.0</td>\n    </tr>\n    <tr>\n      <th>166511</th>\n      <td>0.0</td>\n      <td>0.0</td>\n      <td>0.0</td>\n      <td>0.0</td>\n      <td>1.0</td>\n    </tr>\n    <tr>\n      <th>146086</th>\n      <td>0.0</td>\n      <td>0.0</td>\n      <td>0.0</td>\n      <td>0.0</td>\n      <td>1.0</td>\n    </tr>\n    <tr>\n      <th>183009</th>\n      <td>0.0</td>\n      <td>0.0</td>\n      <td>0.0</td>\n      <td>0.0</td>\n      <td>1.0</td>\n    </tr>\n    <tr>\n      <th>61890</th>\n      <td>0.0</td>\n      <td>0.0</td>\n      <td>1.0</td>\n      <td>0.0</td>\n      <td>1.0</td>\n    </tr>\n    <tr>\n      <th>...</th>\n      <td>...</td>\n      <td>...</td>\n      <td>...</td>\n      <td>...</td>\n      <td>...</td>\n    </tr>\n    <tr>\n      <th>94384</th>\n      <td>0.0</td>\n      <td>1.0</td>\n      <td>0.0</td>\n      <td>0.0</td>\n      <td>1.0</td>\n    </tr>\n    <tr>\n      <th>159565</th>\n      <td>0.0</td>\n      <td>0.0</td>\n      <td>0.0</td>\n      <td>0.0</td>\n      <td>0.0</td>\n    </tr>\n    <tr>\n      <th>179235</th>\n      <td>0.0</td>\n      <td>0.0</td>\n      <td>1.0</td>\n      <td>0.0</td>\n      <td>1.0</td>\n    </tr>\n    <tr>\n      <th>167361</th>\n      <td>0.0</td>\n      <td>1.0</td>\n      <td>1.0</td>\n      <td>0.0</td>\n      <td>1.0</td>\n    </tr>\n    <tr>\n      <th>47240</th>\n      <td>1.0</td>\n      <td>0.0</td>\n      <td>0.0</td>\n      <td>0.0</td>\n      <td>0.0</td>\n    </tr>\n  </tbody>\n</table>\n<p>44683 rows × 5 columns</p>\n</div>"
     },
     "execution_count": 62,
     "metadata": {},
     "output_type": "execute_result"
    }
   ],
   "source": [
    "gfy = pd.DataFrame(for_valid[['Cardiomegaly',\n",
    "        'Edema',\n",
    "        'Consolidation',\n",
    "        'Atelectasis',\n",
    "        'Pleural Effusion']].fillna(0))\n",
    "for x in ['Cardiomegaly',\n",
    "        'Edema',\n",
    "        'Consolidation',\n",
    "        'Atelectasis',\n",
    "        'Pleural Effusion']:\n",
    "    gfy[x] = gfy[x].apply(lambda t: max(t, 0))\n",
    "gfy"
   ],
   "metadata": {
    "collapsed": false,
    "ExecuteTime": {
     "end_time": "2024-04-06T18:16:37.768023200Z",
     "start_time": "2024-04-06T18:16:37.687023800Z"
    }
   }
  },
  {
   "cell_type": "code",
   "execution_count": 74,
   "outputs": [
    {
     "data": {
      "text/plain": "Cardiomegaly         5274.0\nEdema               10454.0\nConsolidation        2941.0\nAtelectasis          6678.0\nPleural Effusion    17129.0\ndtype: float64"
     },
     "execution_count": 74,
     "metadata": {},
     "output_type": "execute_result"
    }
   ],
   "source": [
    "gfy.sum(axis=0)"
   ],
   "metadata": {
    "collapsed": false,
    "ExecuteTime": {
     "end_time": "2024-04-06T18:19:39.760023200Z",
     "start_time": "2024-04-06T18:19:39.736523100Z"
    }
   }
  },
  {
   "cell_type": "code",
   "execution_count": 65,
   "outputs": [
    {
     "data": {
      "text/plain": "Cardiomegaly        0.118031\nEdema               0.233959\nConsolidation       0.065819\nAtelectasis         0.149453\nPleural Effusion    0.383345\ndtype: float64"
     },
     "execution_count": 65,
     "metadata": {},
     "output_type": "execute_result"
    }
   ],
   "source": [
    "gfy.sum(axis=0) / len(gfy)"
   ],
   "metadata": {
    "collapsed": false,
    "ExecuteTime": {
     "end_time": "2024-04-06T18:17:07.251523600Z",
     "start_time": "2024-04-06T18:17:07.214023300Z"
    }
   }
  },
  {
   "cell_type": "code",
   "execution_count": 75,
   "outputs": [],
   "source": [
    "for_valid.to_csv(\"D:/chexpert/chexpertchestxrays-u20210408/CheXpert-v1.0/train_subsample.csv\", index=None)"
   ],
   "metadata": {
    "collapsed": false,
    "ExecuteTime": {
     "end_time": "2024-04-06T18:20:33.021023Z",
     "start_time": "2024-04-06T18:20:32.773525Z"
    }
   }
  },
  {
   "cell_type": "code",
   "execution_count": 20,
   "outputs": [],
   "source": [
    "for_train = df.merge(for_valid, how='outer', indicator=True).loc[lambda x : x['_merge']=='left_only']"
   ],
   "metadata": {
    "collapsed": false,
    "ExecuteTime": {
     "end_time": "2024-04-06T09:02:36.215751800Z",
     "start_time": "2024-04-06T09:02:36.184252Z"
    }
   }
  },
  {
   "cell_type": "code",
   "execution_count": 22,
   "outputs": [],
   "source": [
    "for_train.to_csv(\"D:/chexpert/chexpertchestxrays-u20210408/CheXpert-v1.0/generated_train.csv\", index=None)\n",
    "for_valid.to_csv(\"D:/chexpert/chexpertchestxrays-u20210408/CheXpert-v1.0/generated_valid.csv\", index=None)"
   ],
   "metadata": {
    "collapsed": false,
    "ExecuteTime": {
     "end_time": "2024-04-06T09:03:32.194187900Z",
     "start_time": "2024-04-06T09:03:32.137688600Z"
    }
   }
  },
  {
   "cell_type": "code",
   "execution_count": null,
   "outputs": [],
   "source": [
    "# CREATE_DATASET = False\n",
    "#\n",
    "# if CREATE_DATASET:\n",
    "#     label_path = r\"D:/chexpert/chexpertchestxrays-u20210408/CheXpert-v1.0/valid.csv\"\n",
    "#     chexpert_dataset = ImageDataset(label_path, cfg, mode='test')\n",
    "#     with open(\"dev/chexpert_dataset_test.pkl\", \"wb\") as f:\n",
    "#         pkl.dump(chexpert_dataset, f)\n",
    "# else:\n",
    "#     with open(\"dev/chexpert_dataset_test.pkl\", \"rb\") as f:\n",
    "#         chexpert_dataset = pkl.load(f)"
   ],
   "metadata": {
    "collapsed": false
   }
  },
  {
   "cell_type": "code",
   "execution_count": 2,
   "outputs": [],
   "source": [
    "# test_image = np.transpose(chexpert_dataset[0][0], (1, 2, 0))"
   ],
   "metadata": {
    "collapsed": false
   }
  },
  {
   "cell_type": "code",
   "execution_count": 3,
   "outputs": [],
   "source": [
    "# cv2.imshow('image', test_image)\n",
    "# cv2.waitKey(0)\n",
    "# cv2.destroyAllWindows()"
   ],
   "metadata": {
    "collapsed": false
   }
  },
  {
   "cell_type": "code",
   "execution_count": 2,
   "outputs": [],
   "source": [
    "label_path = r\"D:/chexpert/chexpertchestxrays-u20210408/CheXpert-v1.0/generated.csv\"\n",
    "dataset_generated = ImageDataset(label_path, cfg, mode='train')"
   ],
   "metadata": {
    "collapsed": false,
    "ExecuteTime": {
     "end_time": "2024-03-16T11:17:33.397057600Z",
     "start_time": "2024-03-16T11:17:33.090557300Z"
    }
   }
  },
  {
   "cell_type": "code",
   "execution_count": 24,
   "outputs": [],
   "source": [
    "import pandas as pd\n",
    "\n",
    "generated_data = pd.read_csv(r\"D:/chexpert/chexpertchestxrays-u20210408/CheXpert-v1.0/generated.csv\")\n",
    "train_data = pd.read_csv(r\"D:/chexpert/chexpertchestxrays-u20210408/CheXpert-v1.0/train_subsample.csv\")"
   ],
   "metadata": {
    "collapsed": false,
    "ExecuteTime": {
     "end_time": "2024-04-10T20:27:12.783524200Z",
     "start_time": "2024-04-10T20:27:12.700527100Z"
    }
   }
  },
  {
   "cell_type": "code",
   "execution_count": 26,
   "outputs": [
    {
     "data": {
      "text/plain": "(50033, 19)"
     },
     "execution_count": 26,
     "metadata": {},
     "output_type": "execute_result"
    }
   ],
   "source": [
    "augmented_data = pd.concat([generated_data, train_data])\n",
    "augmented_data.shape"
   ],
   "metadata": {
    "collapsed": false,
    "ExecuteTime": {
     "end_time": "2024-04-10T20:27:21.029027900Z",
     "start_time": "2024-04-10T20:27:21.001525200Z"
    }
   }
  },
  {
   "cell_type": "code",
   "execution_count": 78,
   "outputs": [],
   "source": [
    "augmented_data.to_csv(r\"D:/chexpert/chexpertchestxrays-u20210408/CheXpert-v1.0/augmented_subsample.csv\", index=None, header=True)"
   ],
   "metadata": {
    "collapsed": false,
    "ExecuteTime": {
     "end_time": "2024-04-06T18:21:00.240023100Z",
     "start_time": "2024-04-06T18:20:59.692024200Z"
    }
   }
  },
  {
   "cell_type": "code",
   "execution_count": 79,
   "outputs": [],
   "source": [
    "label_path = r\"D:/chexpert/chexpertchestxrays-u20210408/CheXpert-v1.0/augmented_subsample.csv\"\n",
    "dataset_generated_test = ImageDataset(label_path, cfg, mode='train')"
   ],
   "metadata": {
    "collapsed": false,
    "ExecuteTime": {
     "end_time": "2024-04-06T18:21:14.731522800Z",
     "start_time": "2024-04-06T18:21:09.858524800Z"
    }
   }
  },
  {
   "cell_type": "code",
   "execution_count": 29,
   "outputs": [],
   "source": [
    "dataset = ImageDataset(\"D:/chexpert/chexpertchestxrays-u20210408/CheXpert-v1.0/train.csv\", cfg, mode='train')"
   ],
   "metadata": {
    "collapsed": false,
    "ExecuteTime": {
     "end_time": "2024-04-06T17:44:38.640079200Z",
     "start_time": "2024-04-06T17:43:52.135523500Z"
    }
   }
  },
  {
   "cell_type": "code",
   "execution_count": 41,
   "outputs": [],
   "source": [
    "from torch.utils.data import Subset\n",
    "import random\n",
    "\n",
    "s = Subset(dataset, random.choices(range(len(dataset)), k=int(0.2 * len(dataset))))"
   ],
   "metadata": {
    "collapsed": false,
    "ExecuteTime": {
     "end_time": "2024-04-06T17:59:42.734525500Z",
     "start_time": "2024-04-06T17:59:42.705024Z"
    }
   }
  },
  {
   "cell_type": "code",
   "execution_count": 42,
   "outputs": [
    {
     "data": {
      "text/plain": "(array([[[-2.      , -2.      , -1.984375, ..., -1.984375, -2.      ,\n          -2.      ],\n         [-2.      , -1.984375, -1.96875 , ..., -1.96875 , -1.984375,\n          -2.      ],\n         [-1.96875 , -1.953125, -1.75    , ..., -1.953125, -1.96875 ,\n          -1.984375],\n         ...,\n         [ 0.      ,  0.      ,  0.      , ...,  0.      ,  0.      ,\n           0.      ],\n         [ 0.      ,  0.      ,  0.      , ...,  0.      ,  0.      ,\n           0.      ],\n         [ 0.      ,  0.      ,  0.      , ...,  0.      ,  0.      ,\n           0.      ]],\n \n        [[-2.      , -2.      , -1.984375, ..., -1.984375, -2.      ,\n          -2.      ],\n         [-2.      , -1.984375, -1.96875 , ..., -1.96875 , -1.984375,\n          -2.      ],\n         [-1.96875 , -1.953125, -1.75    , ..., -1.953125, -1.96875 ,\n          -1.984375],\n         ...,\n         [ 0.      ,  0.      ,  0.      , ...,  0.      ,  0.      ,\n           0.      ],\n         [ 0.      ,  0.      ,  0.      , ...,  0.      ,  0.      ,\n           0.      ],\n         [ 0.      ,  0.      ,  0.      , ...,  0.      ,  0.      ,\n           0.      ]],\n \n        [[-2.      , -2.      , -1.984375, ..., -1.984375, -2.      ,\n          -2.      ],\n         [-2.      , -1.984375, -1.96875 , ..., -1.96875 , -1.984375,\n          -2.      ],\n         [-1.96875 , -1.953125, -1.75    , ..., -1.953125, -1.96875 ,\n          -1.984375],\n         ...,\n         [ 0.      ,  0.      ,  0.      , ...,  0.      ,  0.      ,\n           0.      ],\n         [ 0.      ,  0.      ,  0.      , ...,  0.      ,  0.      ,\n           0.      ],\n         [ 0.      ,  0.      ,  0.      , ...,  0.      ,  0.      ,\n           0.      ]]], dtype=float32),\n array([0., 1., 1., 0., 1.], dtype=float32))"
     },
     "execution_count": 42,
     "metadata": {},
     "output_type": "execute_result"
    }
   ],
   "source": [
    "next(iter(s))"
   ],
   "metadata": {
    "collapsed": false,
    "ExecuteTime": {
     "end_time": "2024-04-06T17:59:49.257524500Z",
     "start_time": "2024-04-06T17:59:49.181524300Z"
    }
   }
  },
  {
   "cell_type": "code",
   "execution_count": null,
   "outputs": [],
   "source": [],
   "metadata": {
    "collapsed": false
   }
  }
 ],
 "metadata": {
  "kernelspec": {
   "display_name": "Python 3",
   "language": "python",
   "name": "python3"
  },
  "language_info": {
   "codemirror_mode": {
    "name": "ipython",
    "version": 2
   },
   "file_extension": ".py",
   "mimetype": "text/x-python",
   "name": "python",
   "nbconvert_exporter": "python",
   "pygments_lexer": "ipython2",
   "version": "2.7.6"
  }
 },
 "nbformat": 4,
 "nbformat_minor": 0
}
